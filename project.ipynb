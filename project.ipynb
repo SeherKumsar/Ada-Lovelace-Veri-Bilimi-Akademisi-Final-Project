{
 "cells": [
  {
   "cell_type": "markdown",
   "id": "07647431",
   "metadata": {
    "papermill": {
     "duration": 0.014968,
     "end_time": "2022-11-12T01:40:59.695515",
     "exception": false,
     "start_time": "2022-11-12T01:40:59.680547",
     "status": "completed"
    },
    "tags": []
   },
   "source": [
    "# Giriş\n",
    "Projem boyunca uyguladığım Makine öğrenimi modelleri:<br>\n",
    "- Naive Bayes Classification\n",
    "    - Gaussian Naive Bayes\n",
    "    - Multinomial Naive Bayes\n",
    "    - Bernoulli Naive Bayes\n",
    "- Support Vector Machine Classification\n",
    "- Logistic Regression\n",
    "- K-Nearest Neighbors(KNN)\n",
    "- Decision Tree Classification\n",
    "- Random Forest Classification\n",
    "    "
   ]
  },
  {
   "cell_type": "markdown",
   "id": "b56d902b",
   "metadata": {
    "papermill": {
     "duration": 0.012809,
     "end_time": "2022-11-12T01:40:59.721676",
     "exception": false,
     "start_time": "2022-11-12T01:40:59.708867",
     "status": "completed"
    },
    "tags": []
   },
   "source": [
    "# İçindekiler <a id = \"cont\"></a>\n",
    "- [Veri Seti İncelemesi]\n",
    "- [Veri Setini Hazırlama Aşaması]\n",
    "- [2. Hazırlık Aşaması]\n",
    "- [Makine Öğrenim Modelleri]\n",
    "    - [Naive Bayes Classification]\n",
    "    - [Support Vector Machine Classification]\n",
    "    - [Logistic Regression]\n",
    "    - [K-Nearest Neighbors(KNN)]\n",
    "    - [Decision Tree Classification]\n",
    "    - [Random Forest Classification]\n",
    "- [Derin Öğrenme Modelleri]\n",
    "\n",
    "- [Sonuç]"
   ]
  },
  {
   "cell_type": "code",
   "execution_count": 1,
   "id": "4c9e5aa3",
   "metadata": {
    "_cell_guid": "b1076dfc-b9ad-4769-8c92-a6c4dae69d19",
    "_uuid": "8f2839f25d086af736a60e9eeb907d3b93b6e0e5",
    "execution": {
     "iopub.execute_input": "2022-11-12T01:40:59.750823Z",
     "iopub.status.busy": "2022-11-12T01:40:59.749953Z",
     "iopub.status.idle": "2022-11-12T01:41:00.679658Z",
     "shell.execute_reply": "2022-11-12T01:41:00.678679Z"
    },
    "papermill": {
     "duration": 0.947225,
     "end_time": "2022-11-12T01:41:00.682147",
     "exception": false,
     "start_time": "2022-11-12T01:40:59.734922",
     "status": "completed"
    },
    "tags": []
   },
   "outputs": [],
   "source": [
    "# Kullandığım Kütüphanelerim\n",
    "import numpy as np \n",
    "import pandas as pd \n",
    "import matplotlib.pyplot as plt\n",
    "import seaborn as sns\n",
    "\n",
    "# Uyarıları görmezden gelme!\n",
    "import warnings\n",
    "warnings.filterwarnings(\"ignore\")"
   ]
  },
  {
   "cell_type": "markdown",
   "id": "bd215d8a",
   "metadata": {
    "papermill": {
     "duration": 0.014652,
     "end_time": "2022-11-12T01:41:00.710408",
     "exception": false,
     "start_time": "2022-11-12T01:41:00.695756",
     "status": "completed"
    },
    "tags": []
   },
   "source": [
    "# Veri Seti İncelemesi <a id = \"1\"></a>\n",
    "[Go Content](#cont)"
   ]
  },
  {
   "cell_type": "code",
   "execution_count": 2,
   "id": "f1d01b81",
   "metadata": {
    "execution": {
     "iopub.execute_input": "2022-11-12T01:41:00.738328Z",
     "iopub.status.busy": "2022-11-12T01:41:00.737993Z",
     "iopub.status.idle": "2022-11-12T01:41:00.828935Z",
     "shell.execute_reply": "2022-11-12T01:41:00.827982Z"
    },
    "papermill": {
     "duration": 0.10753,
     "end_time": "2022-11-12T01:41:00.831287",
     "exception": false,
     "start_time": "2022-11-12T01:41:00.723757",
     "status": "completed"
    },
    "tags": []
   },
   "outputs": [],
   "source": [
    "data = pd.read_csv(\"data/magaza_yorumlari_duygu_analizi.csv\", encoding = \"utf-16\")"
   ]
  },
  {
   "cell_type": "code",
   "execution_count": 3,
   "id": "86e8ab55",
   "metadata": {
    "execution": {
     "iopub.execute_input": "2022-11-12T01:41:00.861830Z",
     "iopub.status.busy": "2022-11-12T01:41:00.860042Z",
     "iopub.status.idle": "2022-11-12T01:41:00.877287Z",
     "shell.execute_reply": "2022-11-12T01:41:00.876239Z"
    },
    "papermill": {
     "duration": 0.034751,
     "end_time": "2022-11-12T01:41:00.880331",
     "exception": false,
     "start_time": "2022-11-12T01:41:00.845580",
     "status": "completed"
    },
    "tags": []
   },
   "outputs": [
    {
     "data": {
      "text/html": [
       "<div>\n",
       "<style scoped>\n",
       "    .dataframe tbody tr th:only-of-type {\n",
       "        vertical-align: middle;\n",
       "    }\n",
       "\n",
       "    .dataframe tbody tr th {\n",
       "        vertical-align: top;\n",
       "    }\n",
       "\n",
       "    .dataframe thead th {\n",
       "        text-align: right;\n",
       "    }\n",
       "</style>\n",
       "<table border=\"1\" class=\"dataframe\">\n",
       "  <thead>\n",
       "    <tr style=\"text-align: right;\">\n",
       "      <th></th>\n",
       "      <th>Görüş</th>\n",
       "      <th>Durum</th>\n",
       "    </tr>\n",
       "  </thead>\n",
       "  <tbody>\n",
       "    <tr>\n",
       "      <th>0</th>\n",
       "      <td>ses kalitesi ve ergonomisi rezalet, sony olduğ...</td>\n",
       "      <td>Olumsuz</td>\n",
       "    </tr>\n",
       "    <tr>\n",
       "      <th>1</th>\n",
       "      <td>hizli teslimat tesekkürler</td>\n",
       "      <td>Tarafsız</td>\n",
       "    </tr>\n",
       "    <tr>\n",
       "      <th>2</th>\n",
       "      <td>ses olayı süper....gece çalıştır sıkıntı yok.....</td>\n",
       "      <td>Olumlu</td>\n",
       "    </tr>\n",
       "    <tr>\n",
       "      <th>3</th>\n",
       "      <td>geldi bigün kullandık hemen bozoldu hiçtavsiye...</td>\n",
       "      <td>Olumsuz</td>\n",
       "    </tr>\n",
       "    <tr>\n",
       "      <th>4</th>\n",
       "      <td>Kulaklığın sesi kaliteli falan değil. Aleti öv...</td>\n",
       "      <td>Olumsuz</td>\n",
       "    </tr>\n",
       "    <tr>\n",
       "      <th>5</th>\n",
       "      <td>Giriş seviyesindeki kullanıcılar için kabul ed...</td>\n",
       "      <td>Tarafsız</td>\n",
       "    </tr>\n",
       "    <tr>\n",
       "      <th>6</th>\n",
       "      <td>kullanisli baya</td>\n",
       "      <td>Olumlu</td>\n",
       "    </tr>\n",
       "    <tr>\n",
       "      <th>7</th>\n",
       "      <td>Dezavantajlar : Pahalı ürün&lt;br /&gt;Merhabalar bu...</td>\n",
       "      <td>Tarafsız</td>\n",
       "    </tr>\n",
       "    <tr>\n",
       "      <th>8</th>\n",
       "      <td>ÜRÜN GÜZEL BU PARALARA BAŞKA BULAMAZSINIZ</td>\n",
       "      <td>Tarafsız</td>\n",
       "    </tr>\n",
       "    <tr>\n",
       "      <th>9</th>\n",
       "      <td>Tasarım ve kalite iyi olmasına rağmen yazma hı...</td>\n",
       "      <td>Tarafsız</td>\n",
       "    </tr>\n",
       "  </tbody>\n",
       "</table>\n",
       "</div>"
      ],
      "text/plain": [
       "                                               Görüş     Durum\n",
       "0  ses kalitesi ve ergonomisi rezalet, sony olduğ...   Olumsuz\n",
       "1                         hizli teslimat tesekkürler  Tarafsız\n",
       "2  ses olayı süper....gece çalıştır sıkıntı yok.....    Olumlu\n",
       "3  geldi bigün kullandık hemen bozoldu hiçtavsiye...   Olumsuz\n",
       "4  Kulaklığın sesi kaliteli falan değil. Aleti öv...   Olumsuz\n",
       "5  Giriş seviyesindeki kullanıcılar için kabul ed...  Tarafsız\n",
       "6                                    kullanisli baya    Olumlu\n",
       "7  Dezavantajlar : Pahalı ürün<br />Merhabalar bu...  Tarafsız\n",
       "8          ÜRÜN GÜZEL BU PARALARA BAŞKA BULAMAZSINIZ  Tarafsız\n",
       "9  Tasarım ve kalite iyi olmasına rağmen yazma hı...  Tarafsız"
      ]
     },
     "execution_count": 3,
     "metadata": {},
     "output_type": "execute_result"
    }
   ],
   "source": [
    "data.head(10)"
   ]
  },
  {
   "cell_type": "code",
   "execution_count": 4,
   "id": "e9a68e9a",
   "metadata": {
    "execution": {
     "iopub.execute_input": "2022-11-12T01:41:00.908228Z",
     "iopub.status.busy": "2022-11-12T01:41:00.907926Z",
     "iopub.status.idle": "2022-11-12T01:41:00.934627Z",
     "shell.execute_reply": "2022-11-12T01:41:00.932959Z"
    },
    "papermill": {
     "duration": 0.042799,
     "end_time": "2022-11-12T01:41:00.936590",
     "exception": false,
     "start_time": "2022-11-12T01:41:00.893791",
     "status": "completed"
    },
    "tags": []
   },
   "outputs": [
    {
     "name": "stdout",
     "output_type": "stream",
     "text": [
      "<class 'pandas.core.frame.DataFrame'>\n",
      "RangeIndex: 11429 entries, 0 to 11428\n",
      "Data columns (total 2 columns):\n",
      " #   Column  Non-Null Count  Dtype \n",
      "---  ------  --------------  ----- \n",
      " 0   Görüş   11426 non-null  object\n",
      " 1   Durum   11429 non-null  object\n",
      "dtypes: object(2)\n",
      "memory usage: 178.7+ KB\n"
     ]
    }
   ],
   "source": [
    "data.info()"
   ]
  },
  {
   "cell_type": "code",
   "execution_count": 5,
   "id": "960d3f40",
   "metadata": {
    "execution": {
     "iopub.execute_input": "2022-11-12T01:41:00.964683Z",
     "iopub.status.busy": "2022-11-12T01:41:00.964371Z",
     "iopub.status.idle": "2022-11-12T01:41:00.973656Z",
     "shell.execute_reply": "2022-11-12T01:41:00.972826Z"
    },
    "papermill": {
     "duration": 0.025447,
     "end_time": "2022-11-12T01:41:00.975578",
     "exception": false,
     "start_time": "2022-11-12T01:41:00.950131",
     "status": "completed"
    },
    "tags": []
   },
   "outputs": [],
   "source": [
    "data = data.dropna()"
   ]
  },
  {
   "cell_type": "code",
   "execution_count": 6,
   "id": "5db04973",
   "metadata": {
    "execution": {
     "iopub.execute_input": "2022-11-12T01:41:01.003160Z",
     "iopub.status.busy": "2022-11-12T01:41:01.002857Z",
     "iopub.status.idle": "2022-11-12T01:41:01.014992Z",
     "shell.execute_reply": "2022-11-12T01:41:01.013984Z"
    },
    "papermill": {
     "duration": 0.028474,
     "end_time": "2022-11-12T01:41:01.017240",
     "exception": false,
     "start_time": "2022-11-12T01:41:00.988766",
     "status": "completed"
    },
    "tags": []
   },
   "outputs": [
    {
     "data": {
      "text/html": [
       "<div>\n",
       "<style scoped>\n",
       "    .dataframe tbody tr th:only-of-type {\n",
       "        vertical-align: middle;\n",
       "    }\n",
       "\n",
       "    .dataframe tbody tr th {\n",
       "        vertical-align: top;\n",
       "    }\n",
       "\n",
       "    .dataframe thead th {\n",
       "        text-align: right;\n",
       "    }\n",
       "</style>\n",
       "<table border=\"1\" class=\"dataframe\">\n",
       "  <thead>\n",
       "    <tr style=\"text-align: right;\">\n",
       "      <th></th>\n",
       "      <th>Görüş</th>\n",
       "      <th>Durum</th>\n",
       "    </tr>\n",
       "  </thead>\n",
       "  <tbody>\n",
       "    <tr>\n",
       "      <th>0</th>\n",
       "      <td>ses kalitesi ve ergonomisi rezalet, sony olduğ...</td>\n",
       "      <td>Olumsuz</td>\n",
       "    </tr>\n",
       "    <tr>\n",
       "      <th>1</th>\n",
       "      <td>hizli teslimat tesekkürler</td>\n",
       "      <td>Tarafsız</td>\n",
       "    </tr>\n",
       "    <tr>\n",
       "      <th>2</th>\n",
       "      <td>ses olayı süper....gece çalıştır sıkıntı yok.....</td>\n",
       "      <td>Olumlu</td>\n",
       "    </tr>\n",
       "    <tr>\n",
       "      <th>3</th>\n",
       "      <td>geldi bigün kullandık hemen bozoldu hiçtavsiye...</td>\n",
       "      <td>Olumsuz</td>\n",
       "    </tr>\n",
       "    <tr>\n",
       "      <th>4</th>\n",
       "      <td>Kulaklığın sesi kaliteli falan değil. Aleti öv...</td>\n",
       "      <td>Olumsuz</td>\n",
       "    </tr>\n",
       "    <tr>\n",
       "      <th>...</th>\n",
       "      <td>...</td>\n",
       "      <td>...</td>\n",
       "    </tr>\n",
       "    <tr>\n",
       "      <th>11424</th>\n",
       "      <td>biraz fazla ısınıyor ama sorumsuz çalışıyor</td>\n",
       "      <td>Tarafsız</td>\n",
       "    </tr>\n",
       "    <tr>\n",
       "      <th>11425</th>\n",
       "      <td>orijinal ürün fakat ambalaj bize ulaşana kadar...</td>\n",
       "      <td>Tarafsız</td>\n",
       "    </tr>\n",
       "    <tr>\n",
       "      <th>11426</th>\n",
       "      <td>bu cihazı 1 yıldır kullanıyorum cihazı çok beğ...</td>\n",
       "      <td>Olumsuz</td>\n",
       "    </tr>\n",
       "    <tr>\n",
       "      <th>11427</th>\n",
       "      <td>Bir sene olmadı ayar düğmesine basıyorum ekran...</td>\n",
       "      <td>Tarafsız</td>\n",
       "    </tr>\n",
       "    <tr>\n",
       "      <th>11428</th>\n",
       "      <td>Urun kaliteli zamaninda tedlimat ve kullanisli...</td>\n",
       "      <td>Olumlu</td>\n",
       "    </tr>\n",
       "  </tbody>\n",
       "</table>\n",
       "<p>11426 rows × 2 columns</p>\n",
       "</div>"
      ],
      "text/plain": [
       "                                                   Görüş     Durum\n",
       "0      ses kalitesi ve ergonomisi rezalet, sony olduğ...   Olumsuz\n",
       "1                             hizli teslimat tesekkürler  Tarafsız\n",
       "2      ses olayı süper....gece çalıştır sıkıntı yok.....    Olumlu\n",
       "3      geldi bigün kullandık hemen bozoldu hiçtavsiye...   Olumsuz\n",
       "4      Kulaklığın sesi kaliteli falan değil. Aleti öv...   Olumsuz\n",
       "...                                                  ...       ...\n",
       "11424        biraz fazla ısınıyor ama sorumsuz çalışıyor  Tarafsız\n",
       "11425  orijinal ürün fakat ambalaj bize ulaşana kadar...  Tarafsız\n",
       "11426  bu cihazı 1 yıldır kullanıyorum cihazı çok beğ...   Olumsuz\n",
       "11427  Bir sene olmadı ayar düğmesine basıyorum ekran...  Tarafsız\n",
       "11428  Urun kaliteli zamaninda tedlimat ve kullanisli...    Olumlu\n",
       "\n",
       "[11426 rows x 2 columns]"
      ]
     },
     "execution_count": 6,
     "metadata": {},
     "output_type": "execute_result"
    }
   ],
   "source": [
    "data"
   ]
  },
  {
   "cell_type": "code",
   "execution_count": 7,
   "id": "ee6bc4d6",
   "metadata": {
    "execution": {
     "iopub.execute_input": "2022-11-12T01:41:01.046014Z",
     "iopub.status.busy": "2022-11-12T01:41:01.045105Z",
     "iopub.status.idle": "2022-11-12T01:41:01.050762Z",
     "shell.execute_reply": "2022-11-12T01:41:01.049938Z"
    },
    "papermill": {
     "duration": 0.022302,
     "end_time": "2022-11-12T01:41:01.052911",
     "exception": false,
     "start_time": "2022-11-12T01:41:01.030609",
     "status": "completed"
    },
    "tags": []
   },
   "outputs": [],
   "source": [
    "data = data.rename({'Görüş': 'Gorus'}, axis=1)"
   ]
  },
  {
   "cell_type": "code",
   "execution_count": 8,
   "id": "8e8c83a9",
   "metadata": {
    "execution": {
     "iopub.execute_input": "2022-11-12T01:41:01.082001Z",
     "iopub.status.busy": "2022-11-12T01:41:01.081156Z",
     "iopub.status.idle": "2022-11-12T01:41:01.090925Z",
     "shell.execute_reply": "2022-11-12T01:41:01.089943Z"
    },
    "papermill": {
     "duration": 0.026168,
     "end_time": "2022-11-12T01:41:01.092928",
     "exception": false,
     "start_time": "2022-11-12T01:41:01.066760",
     "status": "completed"
    },
    "tags": []
   },
   "outputs": [
    {
     "data": {
      "text/html": [
       "<div>\n",
       "<style scoped>\n",
       "    .dataframe tbody tr th:only-of-type {\n",
       "        vertical-align: middle;\n",
       "    }\n",
       "\n",
       "    .dataframe tbody tr th {\n",
       "        vertical-align: top;\n",
       "    }\n",
       "\n",
       "    .dataframe thead th {\n",
       "        text-align: right;\n",
       "    }\n",
       "</style>\n",
       "<table border=\"1\" class=\"dataframe\">\n",
       "  <thead>\n",
       "    <tr style=\"text-align: right;\">\n",
       "      <th></th>\n",
       "      <th>Gorus</th>\n",
       "      <th>Durum</th>\n",
       "    </tr>\n",
       "  </thead>\n",
       "  <tbody>\n",
       "    <tr>\n",
       "      <th>0</th>\n",
       "      <td>ses kalitesi ve ergonomisi rezalet, sony olduğ...</td>\n",
       "      <td>Olumsuz</td>\n",
       "    </tr>\n",
       "    <tr>\n",
       "      <th>1</th>\n",
       "      <td>hizli teslimat tesekkürler</td>\n",
       "      <td>Tarafsız</td>\n",
       "    </tr>\n",
       "    <tr>\n",
       "      <th>2</th>\n",
       "      <td>ses olayı süper....gece çalıştır sıkıntı yok.....</td>\n",
       "      <td>Olumlu</td>\n",
       "    </tr>\n",
       "    <tr>\n",
       "      <th>3</th>\n",
       "      <td>geldi bigün kullandık hemen bozoldu hiçtavsiye...</td>\n",
       "      <td>Olumsuz</td>\n",
       "    </tr>\n",
       "    <tr>\n",
       "      <th>4</th>\n",
       "      <td>Kulaklığın sesi kaliteli falan değil. Aleti öv...</td>\n",
       "      <td>Olumsuz</td>\n",
       "    </tr>\n",
       "  </tbody>\n",
       "</table>\n",
       "</div>"
      ],
      "text/plain": [
       "                                               Gorus     Durum\n",
       "0  ses kalitesi ve ergonomisi rezalet, sony olduğ...   Olumsuz\n",
       "1                         hizli teslimat tesekkürler  Tarafsız\n",
       "2  ses olayı süper....gece çalıştır sıkıntı yok.....    Olumlu\n",
       "3  geldi bigün kullandık hemen bozoldu hiçtavsiye...   Olumsuz\n",
       "4  Kulaklığın sesi kaliteli falan değil. Aleti öv...   Olumsuz"
      ]
     },
     "execution_count": 8,
     "metadata": {},
     "output_type": "execute_result"
    }
   ],
   "source": [
    "data.head()"
   ]
  },
  {
   "cell_type": "code",
   "execution_count": 9,
   "id": "1620720e",
   "metadata": {
    "execution": {
     "iopub.execute_input": "2022-11-12T01:41:01.122818Z",
     "iopub.status.busy": "2022-11-12T01:41:01.121169Z",
     "iopub.status.idle": "2022-11-12T01:41:01.128234Z",
     "shell.execute_reply": "2022-11-12T01:41:01.127319Z"
    },
    "papermill": {
     "duration": 0.023746,
     "end_time": "2022-11-12T01:41:01.130261",
     "exception": false,
     "start_time": "2022-11-12T01:41:01.106515",
     "status": "completed"
    },
    "tags": []
   },
   "outputs": [
    {
     "data": {
      "text/plain": [
       "Index(['Gorus', 'Durum'], dtype='object')"
      ]
     },
     "execution_count": 9,
     "metadata": {},
     "output_type": "execute_result"
    }
   ],
   "source": [
    "data.columns"
   ]
  },
  {
   "cell_type": "code",
   "execution_count": 10,
   "id": "db8cb6de",
   "metadata": {
    "execution": {
     "iopub.execute_input": "2022-11-12T01:41:01.159339Z",
     "iopub.status.busy": "2022-11-12T01:41:01.158481Z",
     "iopub.status.idle": "2022-11-12T01:41:01.166650Z",
     "shell.execute_reply": "2022-11-12T01:41:01.165675Z"
    },
    "papermill": {
     "duration": 0.024693,
     "end_time": "2022-11-12T01:41:01.168612",
     "exception": false,
     "start_time": "2022-11-12T01:41:01.143919",
     "status": "completed"
    },
    "tags": []
   },
   "outputs": [
    {
     "data": {
      "text/plain": [
       "Durum\n",
       "Olumlu      4252\n",
       "Olumsuz     4237\n",
       "Tarafsız    2937\n",
       "Name: count, dtype: int64"
      ]
     },
     "execution_count": 10,
     "metadata": {},
     "output_type": "execute_result"
    }
   ],
   "source": [
    "data[\"Durum\"].value_counts()"
   ]
  },
  {
   "cell_type": "code",
   "execution_count": 11,
   "id": "b82aa99a",
   "metadata": {
    "execution": {
     "iopub.execute_input": "2022-11-12T01:41:01.198647Z",
     "iopub.status.busy": "2022-11-12T01:41:01.197664Z",
     "iopub.status.idle": "2022-11-12T01:41:01.417731Z",
     "shell.execute_reply": "2022-11-12T01:41:01.416599Z"
    },
    "papermill": {
     "duration": 0.237595,
     "end_time": "2022-11-12T01:41:01.420317",
     "exception": false,
     "start_time": "2022-11-12T01:41:01.182722",
     "status": "completed"
    },
    "tags": []
   },
   "outputs": [
    {
     "name": "stdout",
     "output_type": "stream",
     "text": [
      "Durum\n",
      "Olumlu      4252\n",
      "Olumsuz     4237\n",
      "Tarafsız    2937\n",
      "Name: count, dtype: int64\n"
     ]
    },
    {
     "data": {
      "image/png": "[encoded data removed]",
      "text/plain": [
       "<Figure size 640x480 with 1 Axes>"
      ]
     },
     "metadata": {},
     "output_type": "display_data"
    }
   ],
   "source": [
    "sns.countplot(data[\"Durum\"])\n",
    "print(data.Durum.value_counts())"
   ]
  },
  {
   "cell_type": "code",
   "execution_count": 12,
   "id": "ef3e62d0",
   "metadata": {
    "execution": {
     "iopub.execute_input": "2022-11-12T01:41:01.450919Z",
     "iopub.status.busy": "2022-11-12T01:41:01.450095Z",
     "iopub.status.idle": "2022-11-12T01:41:01.457490Z",
     "shell.execute_reply": "2022-11-12T01:41:01.456593Z"
    },
    "papermill": {
     "duration": 0.024543,
     "end_time": "2022-11-12T01:41:01.459416",
     "exception": false,
     "start_time": "2022-11-12T01:41:01.434873",
     "status": "completed"
    },
    "tags": []
   },
   "outputs": [],
   "source": [
    "data['Durum'] = data.loc[:, 'Durum'].map({'Olumlu' : 0, 'Olumsuz' : 1 , 'Tarafsız' : 2})"
   ]
  },
  {
   "cell_type": "code",
   "execution_count": 13,
   "id": "d2fffd82",
   "metadata": {
    "execution": {
     "iopub.execute_input": "2022-11-12T01:41:01.489262Z",
     "iopub.status.busy": "2022-11-12T01:41:01.488438Z",
     "iopub.status.idle": "2022-11-12T01:41:01.499390Z",
     "shell.execute_reply": "2022-11-12T01:41:01.498384Z"
    },
    "papermill": {
     "duration": 0.027823,
     "end_time": "2022-11-12T01:41:01.501359",
     "exception": false,
     "start_time": "2022-11-12T01:41:01.473536",
     "status": "completed"
    },
    "tags": []
   },
   "outputs": [
    {
     "data": {
      "text/html": [
       "<div>\n",
       "<style scoped>\n",
       "    .dataframe tbody tr th:only-of-type {\n",
       "        vertical-align: middle;\n",
       "    }\n",
       "\n",
       "    .dataframe tbody tr th {\n",
       "        vertical-align: top;\n",
       "    }\n",
       "\n",
       "    .dataframe thead th {\n",
       "        text-align: right;\n",
       "    }\n",
       "</style>\n",
       "<table border=\"1\" class=\"dataframe\">\n",
       "  <thead>\n",
       "    <tr style=\"text-align: right;\">\n",
       "      <th></th>\n",
       "      <th>Gorus</th>\n",
       "      <th>Durum</th>\n",
       "    </tr>\n",
       "  </thead>\n",
       "  <tbody>\n",
       "    <tr>\n",
       "      <th>0</th>\n",
       "      <td>ses kalitesi ve ergonomisi rezalet, sony olduğ...</td>\n",
       "      <td>1</td>\n",
       "    </tr>\n",
       "    <tr>\n",
       "      <th>1</th>\n",
       "      <td>hizli teslimat tesekkürler</td>\n",
       "      <td>2</td>\n",
       "    </tr>\n",
       "    <tr>\n",
       "      <th>2</th>\n",
       "      <td>ses olayı süper....gece çalıştır sıkıntı yok.....</td>\n",
       "      <td>0</td>\n",
       "    </tr>\n",
       "    <tr>\n",
       "      <th>3</th>\n",
       "      <td>geldi bigün kullandık hemen bozoldu hiçtavsiye...</td>\n",
       "      <td>1</td>\n",
       "    </tr>\n",
       "    <tr>\n",
       "      <th>4</th>\n",
       "      <td>Kulaklığın sesi kaliteli falan değil. Aleti öv...</td>\n",
       "      <td>1</td>\n",
       "    </tr>\n",
       "    <tr>\n",
       "      <th>...</th>\n",
       "      <td>...</td>\n",
       "      <td>...</td>\n",
       "    </tr>\n",
       "    <tr>\n",
       "      <th>11424</th>\n",
       "      <td>biraz fazla ısınıyor ama sorumsuz çalışıyor</td>\n",
       "      <td>2</td>\n",
       "    </tr>\n",
       "    <tr>\n",
       "      <th>11425</th>\n",
       "      <td>orijinal ürün fakat ambalaj bize ulaşana kadar...</td>\n",
       "      <td>2</td>\n",
       "    </tr>\n",
       "    <tr>\n",
       "      <th>11426</th>\n",
       "      <td>bu cihazı 1 yıldır kullanıyorum cihazı çok beğ...</td>\n",
       "      <td>1</td>\n",
       "    </tr>\n",
       "    <tr>\n",
       "      <th>11427</th>\n",
       "      <td>Bir sene olmadı ayar düğmesine basıyorum ekran...</td>\n",
       "      <td>2</td>\n",
       "    </tr>\n",
       "    <tr>\n",
       "      <th>11428</th>\n",
       "      <td>Urun kaliteli zamaninda tedlimat ve kullanisli...</td>\n",
       "      <td>0</td>\n",
       "    </tr>\n",
       "  </tbody>\n",
       "</table>\n",
       "<p>11426 rows × 2 columns</p>\n",
       "</div>"
      ],
      "text/plain": [
       "                                                   Gorus  Durum\n",
       "0      ses kalitesi ve ergonomisi rezalet, sony olduğ...      1\n",
       "1                             hizli teslimat tesekkürler      2\n",
       "2      ses olayı süper....gece çalıştır sıkıntı yok.....      0\n",
       "3      geldi bigün kullandık hemen bozoldu hiçtavsiye...      1\n",
       "4      Kulaklığın sesi kaliteli falan değil. Aleti öv...      1\n",
       "...                                                  ...    ...\n",
       "11424        biraz fazla ısınıyor ama sorumsuz çalışıyor      2\n",
       "11425  orijinal ürün fakat ambalaj bize ulaşana kadar...      2\n",
       "11426  bu cihazı 1 yıldır kullanıyorum cihazı çok beğ...      1\n",
       "11427  Bir sene olmadı ayar düğmesine basıyorum ekran...      2\n",
       "11428  Urun kaliteli zamaninda tedlimat ve kullanisli...      0\n",
       "\n",
       "[11426 rows x 2 columns]"
      ]
     },
     "execution_count": 13,
     "metadata": {},
     "output_type": "execute_result"
    }
   ],
   "source": [
    "data"
   ]
  },
  {
   "cell_type": "code",
   "execution_count": 14,
   "id": "fe37cb8e",
   "metadata": {
    "execution": {
     "iopub.execute_input": "2022-11-12T01:41:01.531374Z",
     "iopub.status.busy": "2022-11-12T01:41:01.530547Z",
     "iopub.status.idle": "2022-11-12T01:41:01.538228Z",
     "shell.execute_reply": "2022-11-12T01:41:01.537297Z"
    },
    "papermill": {
     "duration": 0.024698,
     "end_time": "2022-11-12T01:41:01.540195",
     "exception": false,
     "start_time": "2022-11-12T01:41:01.515497",
     "status": "completed"
    },
    "tags": []
   },
   "outputs": [
    {
     "data": {
      "text/plain": [
       "0        ses kalitesi ve ergonomisi rezalet, sony olduğ...\n",
       "1                               hizli teslimat tesekkürler\n",
       "2        ses olayı süper....gece çalıştır sıkıntı yok.....\n",
       "3        geldi bigün kullandık hemen bozoldu hiçtavsiye...\n",
       "4        Kulaklığın sesi kaliteli falan değil. Aleti öv...\n",
       "                               ...                        \n",
       "11424          biraz fazla ısınıyor ama sorumsuz çalışıyor\n",
       "11425    orijinal ürün fakat ambalaj bize ulaşana kadar...\n",
       "11426    bu cihazı 1 yıldır kullanıyorum cihazı çok beğ...\n",
       "11427    Bir sene olmadı ayar düğmesine basıyorum ekran...\n",
       "11428    Urun kaliteli zamaninda tedlimat ve kullanisli...\n",
       "Name: Gorus, Length: 11426, dtype: object"
      ]
     },
     "execution_count": 14,
     "metadata": {},
     "output_type": "execute_result"
    }
   ],
   "source": [
    "data[\"Gorus\"]"
   ]
  },
  {
   "cell_type": "code",
   "execution_count": 15,
   "id": "1db00f63",
   "metadata": {
    "execution": {
     "iopub.execute_input": "2022-11-12T01:41:01.570603Z",
     "iopub.status.busy": "2022-11-12T01:41:01.569542Z",
     "iopub.status.idle": "2022-11-12T01:41:01.576439Z",
     "shell.execute_reply": "2022-11-12T01:41:01.574974Z"
    },
    "papermill": {
     "duration": 0.024067,
     "end_time": "2022-11-12T01:41:01.578455",
     "exception": false,
     "start_time": "2022-11-12T01:41:01.554388",
     "status": "completed"
    },
    "tags": []
   },
   "outputs": [
    {
     "name": "stdout",
     "output_type": "stream",
     "text": [
      "ses kalitesi ve ergonomisi rezalet, sony olduğu için aldım ama 4'de 1 fiyatına çin replika ürün alsaydım çok çok daha iyiydi, kesinlikle tavsiye etmiyorum.\n",
      "\n",
      "Süpürge arayışınızı bitirmek ve bu konuyu kapatmak için tercihiniz olmalı. Anlatılmaz yaşanır bir temizlik gücü var. Parça ve aksamlar için şimdiden bir şey söylemek zor...Ancak anneme aldık, temizliğini görünce kendi süpürgemden soğudum :) Bundan sonraki süpürge tercihim olacak..\n",
      "\n",
      "bir ay olmadan bozuldu\n",
      "\n"
     ]
    }
   ],
   "source": [
    "print(data[\"Gorus\"][0] + \"\\n\")\n",
    "print(data[\"Gorus\"][4000] + \"\\n\")\n",
    "print(data[\"Gorus\"][4588] + \"\\n\")"
   ]
  },
  {
   "cell_type": "markdown",
   "id": "70f53c73",
   "metadata": {
    "papermill": {
     "duration": 0.013996,
     "end_time": "2022-11-12T01:41:01.606638",
     "exception": false,
     "start_time": "2022-11-12T01:41:01.592642",
     "status": "completed"
    },
    "tags": []
   },
   "source": [
    "# Veri Setini Hazırlama Aşaması <a id = \"2\"></a>\n",
    "[Go Content](#cont)"
   ]
  },
  {
   "cell_type": "code",
   "execution_count": 16,
   "id": "8df632a3",
   "metadata": {
    "execution": {
     "iopub.execute_input": "2022-11-12T01:41:01.637957Z",
     "iopub.status.busy": "2022-11-12T01:41:01.636070Z",
     "iopub.status.idle": "2022-11-12T01:41:01.648771Z",
     "shell.execute_reply": "2022-11-12T01:41:01.647763Z"
    },
    "papermill": {
     "duration": 0.030088,
     "end_time": "2022-11-12T01:41:01.650853",
     "exception": false,
     "start_time": "2022-11-12T01:41:01.620765",
     "status": "completed"
    },
    "tags": []
   },
   "outputs": [
    {
     "data": {
      "text/html": [
       "<div>\n",
       "<style scoped>\n",
       "    .dataframe tbody tr th:only-of-type {\n",
       "        vertical-align: middle;\n",
       "    }\n",
       "\n",
       "    .dataframe tbody tr th {\n",
       "        vertical-align: top;\n",
       "    }\n",
       "\n",
       "    .dataframe thead th {\n",
       "        text-align: right;\n",
       "    }\n",
       "</style>\n",
       "<table border=\"1\" class=\"dataframe\">\n",
       "  <thead>\n",
       "    <tr style=\"text-align: right;\">\n",
       "      <th></th>\n",
       "      <th>Gorus</th>\n",
       "      <th>Durum</th>\n",
       "    </tr>\n",
       "  </thead>\n",
       "  <tbody>\n",
       "    <tr>\n",
       "      <th>0</th>\n",
       "      <td>ses kalitesi ve ergonomisi rezalet, sony olduğ...</td>\n",
       "      <td>1</td>\n",
       "    </tr>\n",
       "    <tr>\n",
       "      <th>1</th>\n",
       "      <td>hizli teslimat tesekkürler</td>\n",
       "      <td>2</td>\n",
       "    </tr>\n",
       "    <tr>\n",
       "      <th>2</th>\n",
       "      <td>ses olayı süper....gece çalıştır sıkıntı yok.....</td>\n",
       "      <td>0</td>\n",
       "    </tr>\n",
       "    <tr>\n",
       "      <th>3</th>\n",
       "      <td>geldi bigün kullandık hemen bozoldu hiçtavsiye...</td>\n",
       "      <td>1</td>\n",
       "    </tr>\n",
       "    <tr>\n",
       "      <th>4</th>\n",
       "      <td>Kulaklığın sesi kaliteli falan değil. Aleti öv...</td>\n",
       "      <td>1</td>\n",
       "    </tr>\n",
       "    <tr>\n",
       "      <th>...</th>\n",
       "      <td>...</td>\n",
       "      <td>...</td>\n",
       "    </tr>\n",
       "    <tr>\n",
       "      <th>11424</th>\n",
       "      <td>biraz fazla ısınıyor ama sorumsuz çalışıyor</td>\n",
       "      <td>2</td>\n",
       "    </tr>\n",
       "    <tr>\n",
       "      <th>11425</th>\n",
       "      <td>orijinal ürün fakat ambalaj bize ulaşana kadar...</td>\n",
       "      <td>2</td>\n",
       "    </tr>\n",
       "    <tr>\n",
       "      <th>11426</th>\n",
       "      <td>bu cihazı 1 yıldır kullanıyorum cihazı çok beğ...</td>\n",
       "      <td>1</td>\n",
       "    </tr>\n",
       "    <tr>\n",
       "      <th>11427</th>\n",
       "      <td>Bir sene olmadı ayar düğmesine basıyorum ekran...</td>\n",
       "      <td>2</td>\n",
       "    </tr>\n",
       "    <tr>\n",
       "      <th>11428</th>\n",
       "      <td>Urun kaliteli zamaninda tedlimat ve kullanisli...</td>\n",
       "      <td>0</td>\n",
       "    </tr>\n",
       "  </tbody>\n",
       "</table>\n",
       "<p>11426 rows × 2 columns</p>\n",
       "</div>"
      ],
      "text/plain": [
       "                                                   Gorus  Durum\n",
       "0      ses kalitesi ve ergonomisi rezalet, sony olduğ...      1\n",
       "1                             hizli teslimat tesekkürler      2\n",
       "2      ses olayı süper....gece çalıştır sıkıntı yok.....      0\n",
       "3      geldi bigün kullandık hemen bozoldu hiçtavsiye...      1\n",
       "4      Kulaklığın sesi kaliteli falan değil. Aleti öv...      1\n",
       "...                                                  ...    ...\n",
       "11424        biraz fazla ısınıyor ama sorumsuz çalışıyor      2\n",
       "11425  orijinal ürün fakat ambalaj bize ulaşana kadar...      2\n",
       "11426  bu cihazı 1 yıldır kullanıyorum cihazı çok beğ...      1\n",
       "11427  Bir sene olmadı ayar düğmesine basıyorum ekran...      2\n",
       "11428  Urun kaliteli zamaninda tedlimat ve kullanisli...      0\n",
       "\n",
       "[11426 rows x 2 columns]"
      ]
     },
     "execution_count": 16,
     "metadata": {},
     "output_type": "execute_result"
    }
   ],
   "source": [
    "data"
   ]
  },
  {
   "cell_type": "code",
   "execution_count": 17,
   "id": "236b467d",
   "metadata": {
    "execution": {
     "iopub.execute_input": "2022-11-12T01:41:01.682037Z",
     "iopub.status.busy": "2022-11-12T01:41:01.681208Z",
     "iopub.status.idle": "2022-11-12T01:41:01.687824Z",
     "shell.execute_reply": "2022-11-12T01:41:01.686822Z"
    },
    "papermill": {
     "duration": 0.02452,
     "end_time": "2022-11-12T01:41:01.690010",
     "exception": false,
     "start_time": "2022-11-12T01:41:01.665490",
     "status": "completed"
    },
    "tags": []
   },
   "outputs": [
    {
     "data": {
      "text/plain": [
       "'ürün az önce elime geçti buradan aldım kargoyu zamanında yolladıkları için teşekkür ediyorum ama ürün hayal kırıklığı çok pişman oldum malzeme kalitesi bana göre iyi değil çekiş gücü süpürdüğünü bile farketmiyorum diyeceğim kadar komşumun 1200w süpürgesi bundan güzel çektiğini söyleyebilirim yorumlara bakarak ürünümün arızalı oldugunu bile düşünüyorum ama yinede tavsiye etmiyorum'"
      ]
     },
     "execution_count": 17,
     "metadata": {},
     "output_type": "execute_result"
    }
   ],
   "source": [
    "data[\"Gorus\"][125]"
   ]
  },
  {
   "cell_type": "code",
   "execution_count": 18,
   "id": "19a6e359",
   "metadata": {
    "execution": {
     "iopub.execute_input": "2022-11-12T01:41:01.720375Z",
     "iopub.status.busy": "2022-11-12T01:41:01.720095Z",
     "iopub.status.idle": "2022-11-12T01:41:01.725075Z",
     "shell.execute_reply": "2022-11-12T01:41:01.724055Z"
    },
    "papermill": {
     "duration": 0.022565,
     "end_time": "2022-11-12T01:41:01.727137",
     "exception": false,
     "start_time": "2022-11-12T01:41:01.704572",
     "status": "completed"
    },
    "tags": []
   },
   "outputs": [],
   "source": [
    "import re\n",
    "cumle0 = data[\"Gorus\"][125]\n",
    "cumle1 = re.sub(\"[^a-zA-Z]\", \" \", cumle0)\n",
    "cumle2 = cumle1.lower()"
   ]
  },
  {
   "cell_type": "code",
   "execution_count": 19,
   "id": "c0ac81bd",
   "metadata": {
    "execution": {
     "iopub.execute_input": "2022-11-12T01:41:01.758938Z",
     "iopub.status.busy": "2022-11-12T01:41:01.758630Z",
     "iopub.status.idle": "2022-11-12T01:41:01.764157Z",
     "shell.execute_reply": "2022-11-12T01:41:01.763236Z"
    },
    "papermill": {
     "duration": 0.023018,
     "end_time": "2022-11-12T01:41:01.766097",
     "exception": false,
     "start_time": "2022-11-12T01:41:01.743079",
     "status": "completed"
    },
    "tags": []
   },
   "outputs": [
    {
     "data": {
      "text/plain": [
       "' r n az  nce elime ge ti buradan ald m kargoyu zaman nda yollad klar  i in te ekk r ediyorum ama  r n hayal k r kl     ok pi man oldum malzeme kalitesi bana g re iyi de il  eki  g c  s p rd   n  bile farketmiyorum diyece im kadar kom umun     w s p rgesi bundan g zel  ekti ini s yleyebilirim yorumlara bakarak  r n m n ar zal  oldugunu bile d   n yorum ama yinede tavsiye etmiyorum'"
      ]
     },
     "execution_count": 19,
     "metadata": {},
     "output_type": "execute_result"
    }
   ],
   "source": [
    "cumle2"
   ]
  },
  {
   "cell_type": "code",
   "execution_count": 20,
   "id": "997f6834",
   "metadata": {
    "execution": {
     "iopub.execute_input": "2022-11-12T01:41:01.819174Z",
     "iopub.status.busy": "2022-11-12T01:41:01.818678Z",
     "iopub.status.idle": "2022-11-12T01:41:01.842472Z",
     "shell.execute_reply": "2022-11-12T01:41:01.840349Z"
    },
    "papermill": {
     "duration": 0.060961,
     "end_time": "2022-11-12T01:41:01.847466",
     "exception": false,
     "start_time": "2022-11-12T01:41:01.786505",
     "status": "completed"
    },
    "tags": []
   },
   "outputs": [
    {
     "data": {
      "text/plain": [
       "'urun az once elime gecti buradan aldim kargoyu zamaninda yolladiklari icin tesekkur ediyorum ama urun hayal kirikligi cok pisman oldum malzeme kalitesi bana gore iyi degil cekis gucu supurdugunu bile farketmiyorum diyecegim kadar komsumun 1200w supurgesi bundan guzel cektigini soyleyebilirim yorumlara bakarak urunumun arizali oldugunu bile dusunuyorum ama yinede tavsiye etmiyorum'"
      ]
     },
     "execution_count": 20,
     "metadata": {},
     "output_type": "execute_result"
    }
   ],
   "source": [
    "listcumle0 = list(cumle0)\n",
    "for i in range(0,len(listcumle0)):\n",
    "    if listcumle0[i] == \"ü\":\n",
    "        listcumle0[i] = \"u\"\n",
    "    elif listcumle0[i] == \"Ü\":\n",
    "        listcumle0[i] = \"U\"\n",
    "    elif listcumle0[i] == \"ö\":\n",
    "        listcumle0[i] = \"o\"\n",
    "    elif listcumle0[i] == \"Ö\":\n",
    "        listcumle0[i] = \"O\"\n",
    "    elif listcumle0[i] == \"İ\":\n",
    "        listcumle0[i] = \"I\"\n",
    "    elif listcumle0[i] == \"ç\":\n",
    "        listcumle0[i] = \"c\"\n",
    "    elif listcumle0[i] == \"Ç\":\n",
    "        listcumle0[i] = \"C\"\n",
    "    elif listcumle0[i] == \"ğ\":\n",
    "        listcumle0[i] = \"g\"\n",
    "    elif listcumle0[i] == \"Ğ\":\n",
    "        listcumle0[i] = \"G\"\n",
    "    elif listcumle0[i] == \"ş\":\n",
    "        listcumle0[i] = \"s\"\n",
    "    elif listcumle0[i] == \"Ş\":\n",
    "        listcumle0[i] = \"S\"\n",
    "    elif listcumle0[i] == \"ı\":\n",
    "        listcumle0[i] = \"i\"\n",
    "str1 = ''.join(listcumle0)\n",
    "str1"
   ]
  },
  {
   "cell_type": "code",
   "execution_count": 21,
   "id": "5e560472",
   "metadata": {
    "execution": {
     "iopub.execute_input": "2022-11-12T01:41:01.919313Z",
     "iopub.status.busy": "2022-11-12T01:41:01.918035Z",
     "iopub.status.idle": "2022-11-12T01:41:01.927876Z",
     "shell.execute_reply": "2022-11-12T01:41:01.926441Z"
    },
    "papermill": {
     "duration": 0.046077,
     "end_time": "2022-11-12T01:41:01.930624",
     "exception": false,
     "start_time": "2022-11-12T01:41:01.884547",
     "status": "completed"
    },
    "tags": []
   },
   "outputs": [
    {
     "data": {
      "text/plain": [
       "'urun az once elime gecti buradan aldim kargoyu zamaninda yolladiklari icin tesekkur ediyorum ama urun hayal kirikligi cok pisman oldum malzeme kalitesi bana gore iyi degil cekis gucu supurdugunu bile farketmiyorum diyecegim kadar komsumun     w supurgesi bundan guzel cektigini soyleyebilirim yorumlara bakarak urunumun arizali oldugunu bile dusunuyorum ama yinede tavsiye etmiyorum'"
      ]
     },
     "execution_count": 21,
     "metadata": {},
     "output_type": "execute_result"
    }
   ],
   "source": [
    "cumle1 = re.sub(\"[^a-zA-Z]\", \" \", str1)\n",
    "cumle2 = cumle1.lower()\n",
    "cumle2"
   ]
  },
  {
   "cell_type": "code",
   "execution_count": 22,
   "id": "e1e81599",
   "metadata": {
    "execution": {
     "iopub.execute_input": "2022-11-12T01:41:01.983671Z",
     "iopub.status.busy": "2022-11-12T01:41:01.983139Z",
     "iopub.status.idle": "2022-11-12T01:41:02.659691Z",
     "shell.execute_reply": "2022-11-12T01:41:02.658692Z"
    },
    "papermill": {
     "duration": 0.705357,
     "end_time": "2022-11-12T01:41:02.662593",
     "exception": false,
     "start_time": "2022-11-12T01:41:01.957236",
     "status": "completed"
    },
    "tags": []
   },
   "outputs": [],
   "source": [
    "import nltk\n",
    "from nltk.corpus import stopwords\n",
    "\n",
    "cumle2 = nltk.word_tokenize(cumle2)\n",
    "cumle2 = [word for word in cumle2 if not word in set(stopwords.words(\"turkish\"))]"
   ]
  },
  {
   "cell_type": "code",
   "execution_count": 23,
   "id": "b9c449a1",
   "metadata": {
    "execution": {
     "iopub.execute_input": "2022-11-12T01:41:02.695638Z",
     "iopub.status.busy": "2022-11-12T01:41:02.694104Z",
     "iopub.status.idle": "2022-11-12T01:41:02.702865Z",
     "shell.execute_reply": "2022-11-12T01:41:02.702027Z"
    },
    "papermill": {
     "duration": 0.026841,
     "end_time": "2022-11-12T01:41:02.704891",
     "exception": false,
     "start_time": "2022-11-12T01:41:02.678050",
     "status": "completed"
    },
    "tags": []
   },
   "outputs": [
    {
     "data": {
      "text/plain": [
       "['urun',\n",
       " 'once',\n",
       " 'elime',\n",
       " 'gecti',\n",
       " 'buradan',\n",
       " 'aldim',\n",
       " 'kargoyu',\n",
       " 'zamaninda',\n",
       " 'yolladiklari',\n",
       " 'icin',\n",
       " 'tesekkur',\n",
       " 'ediyorum',\n",
       " 'urun',\n",
       " 'hayal',\n",
       " 'kirikligi',\n",
       " 'cok',\n",
       " 'pisman',\n",
       " 'oldum',\n",
       " 'malzeme',\n",
       " 'kalitesi',\n",
       " 'bana',\n",
       " 'gore',\n",
       " 'iyi',\n",
       " 'degil',\n",
       " 'cekis',\n",
       " 'gucu',\n",
       " 'supurdugunu',\n",
       " 'bile',\n",
       " 'farketmiyorum',\n",
       " 'diyecegim',\n",
       " 'kadar',\n",
       " 'komsumun',\n",
       " 'w',\n",
       " 'supurgesi',\n",
       " 'bundan',\n",
       " 'guzel',\n",
       " 'cektigini',\n",
       " 'soyleyebilirim',\n",
       " 'yorumlara',\n",
       " 'bakarak',\n",
       " 'urunumun',\n",
       " 'arizali',\n",
       " 'oldugunu',\n",
       " 'bile',\n",
       " 'dusunuyorum',\n",
       " 'yinede',\n",
       " 'tavsiye',\n",
       " 'etmiyorum']"
      ]
     },
     "execution_count": 23,
     "metadata": {},
     "output_type": "execute_result"
    }
   ],
   "source": [
    "cumle2"
   ]
  },
  {
   "cell_type": "code",
   "execution_count": 24,
   "id": "5ab41b1b",
   "metadata": {
    "execution": {
     "iopub.execute_input": "2022-11-12T01:41:02.737850Z",
     "iopub.status.busy": "2022-11-12T01:41:02.736314Z",
     "iopub.status.idle": "2022-11-12T01:41:02.744556Z",
     "shell.execute_reply": "2022-11-12T01:41:02.743705Z"
    },
    "papermill": {
     "duration": 0.026229,
     "end_time": "2022-11-12T01:41:02.746388",
     "exception": false,
     "start_time": "2022-11-12T01:41:02.720159",
     "status": "completed"
    },
    "tags": []
   },
   "outputs": [
    {
     "data": {
      "text/plain": [
       "'urun once elime gecti buradan aldim kargoyu zamaninda yolladiklari icin tesekkur ediyorum urun hayal kirikligi cok pisman oldum malzeme kalitesi bana gore iyi degil cekis gucu supurdugunu bile farketmiyorum diyecegim kadar komsumun w supurgesi bundan guzel cektigini soyleyebilirim yorumlara bakarak urunumun arizali oldugunu bile dusunuyorum yinede tavsiye etmiyorum'"
      ]
     },
     "execution_count": 24,
     "metadata": {},
     "output_type": "execute_result"
    }
   ],
   "source": [
    "cumle3 = \" \".join(cumle2)\n",
    "cumle3"
   ]
  },
  {
   "cell_type": "markdown",
   "id": "ef87d1e1",
   "metadata": {
    "papermill": {
     "duration": 0.014886,
     "end_time": "2022-11-12T01:41:02.776500",
     "exception": false,
     "start_time": "2022-11-12T01:41:02.761614",
     "status": "completed"
    },
    "tags": []
   },
   "source": [
    "# 2. Hazırlık Aşaması <a id = \"3\"></a>\n",
    "[Go Content](#cont)"
   ]
  },
  {
   "cell_type": "code",
   "execution_count": 25,
   "id": "2589ee43",
   "metadata": {
    "execution": {
     "iopub.execute_input": "2022-11-12T01:41:02.809235Z",
     "iopub.status.busy": "2022-11-12T01:41:02.808570Z",
     "iopub.status.idle": "2022-11-12T01:41:02.818809Z",
     "shell.execute_reply": "2022-11-12T01:41:02.817962Z"
    },
    "papermill": {
     "duration": 0.028727,
     "end_time": "2022-11-12T01:41:02.820794",
     "exception": false,
     "start_time": "2022-11-12T01:41:02.792067",
     "status": "completed"
    },
    "tags": []
   },
   "outputs": [],
   "source": [
    "def harfdegistir(cumle):\n",
    "    listcumle0 = list(cumle)\n",
    "    for i in range(0,len(listcumle0)):\n",
    "        if listcumle0[i] == \"ü\":\n",
    "            listcumle0[i] = \"u\"\n",
    "        elif listcumle0[i] == \"Ü\":\n",
    "            listcumle0[i] = \"U\"\n",
    "        elif listcumle0[i] == \"ö\":\n",
    "            listcumle0[i] = \"o\"\n",
    "        elif listcumle0[i] == \"Ö\":\n",
    "            listcumle0[i] = \"O\"\n",
    "        elif listcumle0[i] == \"İ\":\n",
    "            listcumle0[i] = \"I\"\n",
    "        elif listcumle0[i] == \"ç\":\n",
    "            listcumle0[i] = \"c\"\n",
    "        elif listcumle0[i] == \"Ç\":\n",
    "            listcumle0[i] = \"C\"\n",
    "        elif listcumle0[i] == \"ğ\":\n",
    "            listcumle0[i] = \"g\"\n",
    "        elif listcumle0[i] == \"Ğ\":\n",
    "            listcumle0[i] = \"G\"\n",
    "        elif listcumle0[i] == \"ş\":\n",
    "            listcumle0[i] = \"s\"\n",
    "        elif listcumle0[i] == \"Ş\":\n",
    "            listcumle0[i] = \"S\"\n",
    "        elif listcumle0[i] == \"ı\":\n",
    "            listcumle0[i] = \"i\"\n",
    "        \n",
    "    cumle0 = ''.join(listcumle0)\n",
    "    \n",
    "    cumle1 = re.sub(\"[^a-zA-Z]\", \" \", cumle0)\n",
    "    cumle2 = cumle1.lower()\n",
    "    \n",
    "    cumle2 = nltk.word_tokenize(cumle2)\n",
    "    cumle2 = [word for word in cumle2 if not word in set(stopwords.words(\"turkish\"))]\n",
    "    \n",
    "    cumle3 = \" \".join(cumle2)\n",
    "    \n",
    "    return cumle3"
   ]
  },
  {
   "cell_type": "code",
   "execution_count": 26,
   "id": "d139c5a3",
   "metadata": {
    "execution": {
     "iopub.execute_input": "2022-11-12T01:41:02.853144Z",
     "iopub.status.busy": "2022-11-12T01:41:02.852811Z",
     "iopub.status.idle": "2022-11-12T01:41:02.860490Z",
     "shell.execute_reply": "2022-11-12T01:41:02.859580Z"
    },
    "papermill": {
     "duration": 0.026209,
     "end_time": "2022-11-12T01:41:02.862450",
     "exception": false,
     "start_time": "2022-11-12T01:41:02.836241",
     "status": "completed"
    },
    "tags": []
   },
   "outputs": [
    {
     "data": {
      "text/plain": [
       "0        ses kalitesi ve ergonomisi rezalet, sony olduğ...\n",
       "1                               hizli teslimat tesekkürler\n",
       "2        ses olayı süper....gece çalıştır sıkıntı yok.....\n",
       "3        geldi bigün kullandık hemen bozoldu hiçtavsiye...\n",
       "4        Kulaklığın sesi kaliteli falan değil. Aleti öv...\n",
       "                               ...                        \n",
       "11424          biraz fazla ısınıyor ama sorumsuz çalışıyor\n",
       "11425    orijinal ürün fakat ambalaj bize ulaşana kadar...\n",
       "11426    bu cihazı 1 yıldır kullanıyorum cihazı çok beğ...\n",
       "11427    Bir sene olmadı ayar düğmesine basıyorum ekran...\n",
       "11428    Urun kaliteli zamaninda tedlimat ve kullanisli...\n",
       "Name: Gorus, Length: 11426, dtype: object"
      ]
     },
     "execution_count": 26,
     "metadata": {},
     "output_type": "execute_result"
    }
   ],
   "source": [
    "data[\"Gorus\"]"
   ]
  },
  {
   "cell_type": "code",
   "execution_count": 27,
   "id": "8c7210a4",
   "metadata": {
    "execution": {
     "iopub.execute_input": "2022-11-12T01:41:02.895113Z",
     "iopub.status.busy": "2022-11-12T01:41:02.894760Z",
     "iopub.status.idle": "2022-11-12T01:41:02.899891Z",
     "shell.execute_reply": "2022-11-12T01:41:02.898964Z"
    },
    "papermill": {
     "duration": 0.024519,
     "end_time": "2022-11-12T01:41:02.902415",
     "exception": false,
     "start_time": "2022-11-12T01:41:02.877896",
     "status": "completed"
    },
    "tags": []
   },
   "outputs": [
    {
     "name": "stdout",
     "output_type": "stream",
     "text": [
      "Veri setinin uzunluğu:  11426\n"
     ]
    }
   ],
   "source": [
    "print(\"Veri setinin uzunluğu: \",len(data[\"Gorus\"]))"
   ]
  },
  {
   "cell_type": "code",
   "execution_count": 28,
   "id": "b2f42e51",
   "metadata": {
    "execution": {
     "iopub.execute_input": "2022-11-12T01:41:02.935217Z",
     "iopub.status.busy": "2022-11-12T01:41:02.934936Z",
     "iopub.status.idle": "2022-11-12T01:41:02.939741Z",
     "shell.execute_reply": "2022-11-12T01:41:02.938839Z"
    },
    "papermill": {
     "duration": 0.023599,
     "end_time": "2022-11-12T01:41:02.942432",
     "exception": false,
     "start_time": "2022-11-12T01:41:02.918833",
     "status": "completed"
    },
    "tags": []
   },
   "outputs": [
    {
     "name": "stdout",
     "output_type": "stream",
     "text": [
      "Veri Setinin Uzunluğu:  11426\n"
     ]
    }
   ],
   "source": [
    "X = data[\"Gorus\"].values\n",
    "print(\"Veri Setinin Uzunluğu: \",len(X))"
   ]
  },
  {
   "cell_type": "code",
   "execution_count": 29,
   "id": "746d9749",
   "metadata": {
    "execution": {
     "iopub.execute_input": "2022-11-12T01:41:02.975499Z",
     "iopub.status.busy": "2022-11-12T01:41:02.974709Z",
     "iopub.status.idle": "2022-11-12T01:41:02.980722Z",
     "shell.execute_reply": "2022-11-12T01:41:02.979696Z"
    },
    "papermill": {
     "duration": 0.024084,
     "end_time": "2022-11-12T01:41:02.982839",
     "exception": false,
     "start_time": "2022-11-12T01:41:02.958755",
     "status": "completed"
    },
    "tags": []
   },
   "outputs": [
    {
     "data": {
      "text/plain": [
       "'ürün az önce elime geçti buradan aldım kargoyu zamanında yolladıkları için teşekkür ediyorum ama ürün hayal kırıklığı çok pişman oldum malzeme kalitesi bana göre iyi değil çekiş gücü süpürdüğünü bile farketmiyorum diyeceğim kadar komşumun 1200w süpürgesi bundan güzel çektiğini söyleyebilirim yorumlara bakarak ürünümün arızalı oldugunu bile düşünüyorum ama yinede tavsiye etmiyorum'"
      ]
     },
     "execution_count": 29,
     "metadata": {},
     "output_type": "execute_result"
    }
   ],
   "source": [
    "X[125]"
   ]
  },
  {
   "cell_type": "code",
   "execution_count": null,
   "id": "8b022335",
   "metadata": {},
   "outputs": [],
   "source": []
  }
 ],
 "metadata": {
  "kernelspec": {
   "display_name": "Python 3",
   "language": "python",
   "name": "python3"
  },
  "language_info": {
   "codemirror_mode": {
    "name": "ipython",
    "version": 3
   },
   "file_extension": ".py",
   "mimetype": "text/x-python",
   "name": "python",
   "nbconvert_exporter": "python",
   "pygments_lexer": "ipython3",
   "version": "3.11.3"
  },
  "papermill": {
   "default_parameters": {},
   "duration": 5011.318222,
   "end_time": "2022-11-12T03:04:23.283257",
   "environment_variables": {},
   "exception": null,
   "input_path": "__notebook__.ipynb",
   "output_path": "__notebook__.ipynb",
   "parameters": {},
   "start_time": "2022-11-12T01:40:51.965035",
   "version": "2.3.4"
  }
 },
 "nbformat": 4,
 "nbformat_minor": 5
}
